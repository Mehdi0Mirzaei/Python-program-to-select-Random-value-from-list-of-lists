{
 "cells": [
  {
   "cell_type": "code",
   "execution_count": 9,
   "id": "1df00627",
   "metadata": {},
   "outputs": [
    {
     "name": "stdout",
     "output_type": "stream",
     "text": [
      "The original list is : [[4, 5, 5], [2, 7, 4], [8, 6, 3]]\n",
      "Random number from Matrix Row : 2\n"
     ]
    }
   ],
   "source": [
    "import random\n",
    " \n",
    "# initializing list\n",
    "test_list = [[4, 5, 5], [2, 7, 4], [8, 6, 3]]\n",
    " \n",
    "# printing original list\n",
    "print(\"The original list is : \" + str(test_list))\n",
    " \n",
    "# initializing Row number\n",
    "r_no = [0, 1, 2]\n",
    " \n",
    "# choice() for random number, from_iterables for flattening\n",
    "res = random.choice(test_list[random.choice(r_no)])\n",
    " \n",
    "# printing result\n",
    "print(\"Random number from Matrix Row : \" + str(res))"
   ]
  },
  {
   "cell_type": "code",
   "execution_count": 10,
   "id": "af80ecde",
   "metadata": {},
   "outputs": [
    {
     "name": "stdout",
     "output_type": "stream",
     "text": [
      "The original list is : [[4, 5, 5], [2, 7, 4], [8, 6, 3]]\n",
      "Random number from Matrix Row : 4\n"
     ]
    }
   ],
   "source": [
    "import numpy as np\n",
    "import random\n",
    " \n",
    "# initializing list\n",
    "test_list = [[4, 5, 5], [2, 7, 4], [8, 6, 3]]\n",
    " \n",
    "# printing original list\n",
    "print(\"The original list is : \" + str(test_list))\n",
    " \n",
    "# initializing Row number\n",
    "r_no = [0, 1, 2]\n",
    " \n",
    "# Converting list to numpy array\n",
    "arr = np.array(test_list)\n",
    " \n",
    "# Generating random number from matrix\n",
    "# using numpy random.choice() method\n",
    "res = np.random.choice(arr[random.choice(r_no)])\n",
    " \n",
    "# Printing result\n",
    "print(\"Random number from Matrix Row : \" + str(res))"
   ]
  },
  {
   "cell_type": "code",
   "execution_count": 11,
   "id": "be1d671e",
   "metadata": {},
   "outputs": [
    {
     "name": "stdout",
     "output_type": "stream",
     "text": [
      "The original list is : [[4, 5, 5], [2, 7, 4], [8, 6, 3]]\n",
      "Random number from Matrix Row : 5\n"
     ]
    }
   ],
   "source": [
    "import random\n",
    " \n",
    "# initializing list\n",
    "test_list = [[4, 5, 5], [2, 7, 4], [8, 6, 3]]\n",
    " \n",
    "# printing original list\n",
    "print(\"The original list is : \" + str(test_list))\n",
    " \n",
    "# generating random row index\n",
    "row_index = random.randint(0, len(test_list)-1)\n",
    " \n",
    "# extracting the row corresponding to the random index using list comprehension\n",
    "row = [test_list[row_index][i] for i in range(len(test_list[row_index]))]\n",
    " \n",
    "# getting a sample of elements from the row using random.sample()\n",
    "sample = random.sample(row, k=1)\n",
    " \n",
    "# getting the randomly selected element from the sample\n",
    "res = sample[0]\n",
    " \n",
    "# printing result\n",
    "print(\"Random number from Matrix Row : \" + str(res))"
   ]
  },
  {
   "cell_type": "code",
   "execution_count": null,
   "id": "0a4930fd",
   "metadata": {},
   "outputs": [],
   "source": []
  }
 ],
 "metadata": {
  "kernelspec": {
   "display_name": "Python 3 (ipykernel)",
   "language": "python",
   "name": "python3"
  },
  "language_info": {
   "codemirror_mode": {
    "name": "ipython",
    "version": 3
   },
   "file_extension": ".py",
   "mimetype": "text/x-python",
   "name": "python",
   "nbconvert_exporter": "python",
   "pygments_lexer": "ipython3",
   "version": "3.9.17"
  }
 },
 "nbformat": 4,
 "nbformat_minor": 5
}
